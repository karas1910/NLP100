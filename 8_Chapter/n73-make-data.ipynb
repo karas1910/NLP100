{
 "cells": [
  {
   "cell_type": "code",
   "execution_count": 37,
   "metadata": {},
   "outputs": [],
   "source": [
    "from n71.n71 import jadge_stopword\n",
    "from nltk import stem\n",
    "import re\n",
    "import sys\n",
    "import collections\n",
    "from see import see\n",
    "import numpy as np"
   ]
  },
  {
   "cell_type": "code",
   "execution_count": 38,
   "metadata": {},
   "outputs": [],
   "source": [
    "\n",
    "p = open('rt-polarity.pos')\n",
    "pattern = re.compile('[a-zA-Z0-9]')\n",
    "result_feature = []\n",
    "with open('n73-feature.txt', 'w') as feature:\n",
    "    ps = stem.PorterStemmer()\n",
    "    for st in sentiment:\n",
    "        wl = st.split()\n",
    "        label = wl.pop(0)\n",
    "        for w in wl:\n",
    "            check = [re.match(pattern, c) for c in w]\n",
    "            if None not in check and jadge_stopword(ps.stem(w)) == False:\n",
    "                result_feature.append(ps.stem(w))\n",
    "    result_ps = list(set(result_feature))\n",
    "    for rp in result_ps:\n",
    "        feature.write(rp+'\\n')"
   ]
  },
  {
   "cell_type": "code",
   "execution_count": 39,
   "metadata": {},
   "outputs": [
    {
     "name": "stdout",
     "output_type": "stream",
     "text": [
      "[0 0 0 ... 0 0 1] 10661\n"
     ]
    }
   ],
   "source": [
    "result = []\n",
    "sentiment = open(fname)\n",
    "for st in sentiment:\n",
    "    wl = st.split()\n",
    "    label = wl.pop(0)\n",
    "    if label == '-1':\n",
    "        result.append(0)\n",
    "    else:\n",
    "        result.append(1)\n",
    "ynpy = np.array(result)\n",
    "np.save('n73-y.npy', ynpy)\n",
    "ynpy2 = np.load('n73-y.npy')\n",
    "print(ynpy2, len(ynpy2))"
   ]
  },
  {
   "cell_type": "code",
   "execution_count": 40,
   "metadata": {},
   "outputs": [
    {
     "name": "stdout",
     "output_type": "stream",
     "text": [
      "53245 8289\n"
     ]
    }
   ],
   "source": [
    "print(len(result_feature), len(set(result_feature)))\n",
    "feature = {v:k for k, v in enumerate(list(set(result_feature)))}"
   ]
  },
  {
   "cell_type": "code",
   "execution_count": 41,
   "metadata": {},
   "outputs": [],
   "source": [
    "result_x = []\n",
    "ps = stem.PorterStemmer()\n",
    "sentiment = open(fname).readlines()\n",
    "for st in sentiment:\n",
    "    wl = st.split()\n",
    "    label = wl.pop(0)\n",
    "    x = [0 for i in range(len(feature))]\n",
    "    for w in wl:\n",
    "        check = [re.match(pattern, c) for c in w]\n",
    "        w = ps.stem(w)\n",
    "        if None not in check and jadge_stopword(w) == False:\n",
    "            if feature.get(w) is not None:\n",
    "                x[feature.get(w)] = 1\n",
    "    result_x += x"
   ]
  },
  {
   "cell_type": "code",
   "execution_count": 42,
   "metadata": {},
   "outputs": [],
   "source": [
    "xnpy = np.array(result_x)\n",
    "xnpy = xnpy.reshape(len(ynpy), len(feature))"
   ]
  },
  {
   "cell_type": "code",
   "execution_count": 43,
   "metadata": {},
   "outputs": [
    {
     "name": "stdout",
     "output_type": "stream",
     "text": [
      "[[0 0 0 ... 0 0 0]\n",
      " [0 0 0 ... 0 0 0]\n",
      " [0 0 0 ... 0 0 0]\n",
      " ...\n",
      " [0 0 0 ... 0 0 0]\n",
      " [0 0 0 ... 0 0 0]\n",
      " [0 0 0 ... 0 0 0]]\n"
     ]
    }
   ],
   "source": [
    "print(xnpy)"
   ]
  },
  {
   "cell_type": "code",
   "execution_count": 44,
   "metadata": {},
   "outputs": [],
   "source": [
    "np.save('n73-x.npy', xnpy)"
   ]
  },
  {
   "cell_type": "code",
   "execution_count": null,
   "metadata": {},
   "outputs": [],
   "source": []
  }
 ],
 "metadata": {
  "kernelspec": {
   "display_name": "Python 3",
   "language": "python",
   "name": "python3"
  },
  "language_info": {
   "codemirror_mode": {
    "name": "ipython",
    "version": 3
   },
   "file_extension": ".py",
   "mimetype": "text/x-python",
   "name": "python",
   "nbconvert_exporter": "python",
   "pygments_lexer": "ipython3",
   "version": "3.6.1"
  }
 },
 "nbformat": 4,
 "nbformat_minor": 2
}
